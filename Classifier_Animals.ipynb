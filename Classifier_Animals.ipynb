{
  "cells": [
    {
      "attachments": {},
      "cell_type": "markdown",
      "metadata": {
        "id": "RvK82VEVkc6Y"
      },
      "source": [
        "**Project for Hackathon Lab (Prof. Guidotti)**\n",
        "</br>**Studnets: SHB ALF DMT**\n",
        "</br>**May 2023**"
      ]
    },
    {
      "attachments": {},
      "cell_type": "markdown",
      "metadata": {
        "id": "Vb-eUuE5kUsb"
      },
      "source": [
        "**Convolutional Neural Network to Classify Animals**"
      ]
    },
    {
      "cell_type": "code",
      "execution_count": 1,
      "metadata": {
        "id": "m2u_KQZp3EIa"
      },
      "outputs": [],
      "source": [
        "!pip install -q kaggle"
      ]
    },
    {
      "cell_type": "code",
      "execution_count": 2,
      "metadata": {
        "id": "j3ZAivni4Jky"
      },
      "outputs": [],
      "source": [
        "import os\n",
        "os.environ['KAGGLE_USERNAME'] = \"xxxxxxxxxx\"\n",
        "os.environ['KAGGLE_KEY'] = \"xxxxxxxxxx\""
      ]
    },
    {
      "attachments": {},
      "cell_type": "markdown",
      "metadata": {
        "id": "JUHH-LmpkSoh"
      },
      "source": [
        "Download dataset and unzip"
      ]
    },
    {
      "cell_type": "code",
      "execution_count": 3,
      "metadata": {
        "colab": {
          "base_uri": "https://localhost:8080/"
        },
        "id": "kQL726Eo4LVb",
        "outputId": "030e2ef9-d868-45f6-a76f-00d0de6c20d6"
      },
      "outputs": [
        {
          "name": "stdout",
          "output_type": "stream",
          "text": [
            "Downloading animals10.zip to /content\n",
            "100% 584M/586M [00:26<00:00, 22.7MB/s]\n",
            "100% 586M/586M [00:27<00:00, 22.7MB/s]\n"
          ]
        }
      ],
      "source": [
        "!kaggle datasets download -d alessiocorrado99/animals10"
      ]
    },
    {
      "cell_type": "code",
      "execution_count": null,
      "metadata": {
        "id": "WwVWKd0C9uGB"
      },
      "outputs": [],
      "source": [
        "#!rm -r animals10"
      ]
    },
    {
      "cell_type": "code",
      "execution_count": 4,
      "metadata": {
        "id": "V_8-CxI1-D04"
      },
      "outputs": [],
      "source": [
        "!unzip -q /content/animals10.zip"
      ]
    },
    {
      "attachments": {},
      "cell_type": "markdown",
      "metadata": {
        "id": "EDvRnFV9kLSW"
      },
      "source": [
        "Generate list of subdirectories of diseased leaves"
      ]
    },
    {
      "cell_type": "code",
      "execution_count": 5,
      "metadata": {
        "id": "5FF1jbxXiE5H"
      },
      "outputs": [],
      "source": [
        "import shutil"
      ]
    },
    {
      "cell_type": "code",
      "execution_count": 7,
      "metadata": {
        "id": "hsoqNoLIjK1N"
      },
      "outputs": [],
      "source": [
        "path = \"/content/raw-img\""
      ]
    },
    {
      "attachments": {},
      "cell_type": "markdown",
      "metadata": {
        "id": "TYjqlq9ZkEEK"
      },
      "source": [
        "Delete diseased folders, keep only health folders"
      ]
    },
    {
      "cell_type": "code",
      "execution_count": 34,
      "metadata": {
        "id": "ziRUufxdzG1L"
      },
      "outputs": [],
      "source": [
        "IMG_SIZE = (100,100)\n",
        "RESCALE_FACTOR = 1.0/255\n",
        "BATCH_SIZE=32\n",
        "SEED=180298"
      ]
    },
    {
      "cell_type": "code",
      "execution_count": 19,
      "metadata": {
        "id": "zhIgLGqrzBdA"
      },
      "outputs": [],
      "source": [
        "from keras.preprocessing.image import ImageDataGenerator"
      ]
    },
    {
      "cell_type": "code",
      "execution_count": 51,
      "metadata": {
        "id": "ccOjNu9N-emS"
      },
      "outputs": [],
      "source": [
        "gen_train = ImageDataGenerator(\n",
        "    validation_split=0.2,\n",
        "    rescale=RESCALE_FACTOR,\n",
        "    width_shift_range=0.1,\n",
        "    height_shift_range=0.1,\n",
        "    shear_range=0.1,\n",
        "    zoom_range=0.1,\n",
        "    horizontal_flip=True)\n",
        "#gen_val = ImageDataGenerator(rescale=RESCALE_FACTOR)\n",
        "gen_test = ImageDataGenerator(rescale = RESCALE_FACTOR)"
      ]
    },
    {
      "cell_type": "code",
      "execution_count": 38,
      "metadata": {
        "id": "B6vtOYv20F1a"
      },
      "outputs": [],
      "source": [
        "import tensorflow as tf"
      ]
    },
    {
      "cell_type": "code",
      "execution_count": 53,
      "metadata": {
        "colab": {
          "base_uri": "https://localhost:8080/"
        },
        "id": "TMj9kv8GzNYY",
        "outputId": "5480f43d-cefe-4599-8a42-b9d44f032245"
      },
      "outputs": [
        {
          "name": "stdout",
          "output_type": "stream",
          "text": [
            "Found 20947 images belonging to 10 classes.\n"
          ]
        }
      ],
      "source": [
        "dataset_train = gen_train.flow_from_directory(\n",
        "    directory=path,\n",
        "    target_size=IMG_SIZE,\n",
        "    color_mode=\"rgb\",\n",
        "    batch_size=BATCH_SIZE,\n",
        "    class_mode=\"categorical\",\n",
        "    subset='training',\n",
        "    shuffle=True,\n",
        "    seed=SEED\n",
        ")"
      ]
    },
    {
      "cell_type": "code",
      "execution_count": 54,
      "metadata": {
        "colab": {
          "base_uri": "https://localhost:8080/"
        },
        "id": "V7e2yPJrXVN7",
        "outputId": "baadbb0d-4778-492b-999b-b02666fba488"
      },
      "outputs": [
        {
          "name": "stdout",
          "output_type": "stream",
          "text": [
            "Found 5232 images belonging to 10 classes.\n"
          ]
        }
      ],
      "source": [
        "dataset_val = gen_train.flow_from_directory(\n",
        "    directory=path,\n",
        "    target_size=IMG_SIZE,\n",
        "    color_mode=\"rgb\",\n",
        "    batch_size=BATCH_SIZE,\n",
        "    class_mode=\"categorical\",\n",
        "    subset='validation',\n",
        "    shuffle=True,\n",
        "    seed=SEED\n",
        ")"
      ]
    },
    {
      "attachments": {},
      "cell_type": "markdown",
      "metadata": {
        "id": "NEYLSmH6lvoL"
      },
      "source": [
        "Explore Dataset"
      ]
    },
    {
      "cell_type": "code",
      "execution_count": 41,
      "metadata": {
        "id": "YAZchg_Ml4iP"
      },
      "outputs": [],
      "source": [
        "import matplotlib.pyplot as plt"
      ]
    },
    {
      "cell_type": "code",
      "execution_count": 57,
      "metadata": {
        "colab": {
          "base_uri": "https://localhost:8080/",
          "height": 53
        },
        "id": "HmkR2FkAlwkW",
        "outputId": "79ca4ebd-2acd-4518-89ba-af07e4684bb8"
      },
      "outputs": [
        {
          "data": {
            "application/vnd.google.colaboratory.intrinsic+json": {
              "type": "string"
            },
            "text/plain": [
              "'plt.figure(figsize=(20, 10))\\nfor images, labels in dataset_train[1]:\\n    for i in range(18):\\n        ax = plt.subplot(3, 6, i + 1)\\n        plt.imshow(images[i].numpy().astype(\"uint8\"))\\n        plt.title(int(labels[i]))\\n        plt.axis(\"off\")'"
            ]
          },
          "execution_count": 57,
          "metadata": {},
          "output_type": "execute_result"
        }
      ],
      "source": [
        "\"\"\"plt.figure(figsize=(20, 10))\n",
        "for images, labels in dataset_train[1]:\n",
        "    for i in range(18):\n",
        "        ax = plt.subplot(3, 6, i + 1)\n",
        "        plt.imshow(images[i].numpy().astype(\"uint8\"))\n",
        "        plt.title(int(labels[i]))\n",
        "        plt.axis(\"off\")\"\"\""
      ]
    },
    {
      "attachments": {},
      "cell_type": "markdown",
      "metadata": {
        "id": "dCv9EI1vmjqP"
      },
      "source": [
        "**CNN Model**"
      ]
    },
    {
      "cell_type": "code",
      "execution_count": 59,
      "metadata": {
        "id": "JKH_m3EboQBp"
      },
      "outputs": [],
      "source": [
        "# Default params for create_cnn function\n",
        "#NUM_CLASSES=len(dataset_train.class_names)\n",
        "NUM_CLASSES=10\n",
        "INPUT_SHAPE = IMG_SIZE + (3,)"
      ]
    },
    {
      "cell_type": "code",
      "execution_count": 27,
      "metadata": {
        "id": "52CTm1jxp-3I"
      },
      "outputs": [],
      "source": [
        "from keras.models import Sequential\n",
        "from keras.layers import Conv2D, MaxPooling2D, Dropout, Flatten, Dense"
      ]
    },
    {
      "attachments": {},
      "cell_type": "markdown",
      "metadata": {
        "id": "nK_3Sv3IqWGo"
      },
      "source": [
        "General function to create a CNN multi-class classifier\n",
        "* Assumes more than 2 classes\n",
        "* Allows to adapt number of convolutional layers\n",
        "* Easy to experiment different architechtures rapidly and clearly\n"
      ]
    },
    {
      "cell_type": "code",
      "execution_count": 60,
      "metadata": {
        "id": "Fw9TnRmamlE7"
      },
      "outputs": [],
      "source": [
        "def create_cnn(conv_layers, dense_units, dropout=0, num_classes=NUM_CLASSES, input_shape=INPUT_SHAPE):\n",
        "  \"\"\"\n",
        "  Create CNN with general arch of:\n",
        "    A- Sequential Convolutional-ReLu-MaxPooling Layers >=1 of Doubling Num of Filters\n",
        "    B- Dense Layers at the end of the convolutional sequence\n",
        "    C- An Output Layer with Nodes = num_classes > 2\n",
        "  \"\"\"\n",
        "\n",
        "  classifier = Sequential()\n",
        "\n",
        "  # Initial Convolutional Block\n",
        "  classifier.add(Conv2D(\n",
        "    filters=32,\n",
        "    kernel_size=(3, 3),\n",
        "    padding=\"same\",\n",
        "    input_shape=input_shape,\n",
        "    activation=\"relu\")\n",
        "  )\n",
        "\n",
        "  classifier.add(MaxPooling2D(pool_size=(2, 2)))\n",
        "\n",
        "  #classifier.add(Dropout(rate=0.2))\n",
        "\n",
        "  # Additional Convolutional Block with twice the num of filters as previous block\n",
        "  for cl in range(conv_layers-1):\n",
        "    # when cl = 0, power = 6, so 2^6 = 64 (since initial layer has 32 filters)\n",
        "    power = 6 + cl\n",
        "\n",
        "    classifier.add(Conv2D(\n",
        "      filters=2 ** power,\n",
        "      kernel_size=(3, 3),\n",
        "      padding=\"same\",\n",
        "      activation=\"relu\")\n",
        "    )\n",
        "\n",
        "    classifier.add(MaxPooling2D(pool_size=(2, 2)))\n",
        "    \n",
        "    if dropout>0:\n",
        "      classifier.add(Dropout(rate=dropout))\n",
        "\n",
        "  classifier.add(Flatten())\n",
        "\n",
        "  # Dense Layers\n",
        "  classifier.add(Dense(units=dense_units, activation=\"relu\"))\n",
        "    \n",
        "  if dropout>0:\n",
        "    classifier.add(Dropout(rate=dropout))\n",
        "\n",
        "  # Output Layer\n",
        "  classifier.add(Dense(units=num_classes, activation=\"softmax\"))\n",
        "\n",
        "  return classifier"
      ]
    },
    {
      "attachments": {},
      "cell_type": "markdown",
      "metadata": {
        "id": "ntGCE9cMLhcf"
      },
      "source": [
        "Use of Colab's Free TPU"
      ]
    },
    {
      "cell_type": "code",
      "execution_count": 61,
      "metadata": {
        "colab": {
          "base_uri": "https://localhost:8080/"
        },
        "id": "Kdxlhxtcqx1m",
        "outputId": "4a62bcff-f7b2-4ff1-a535-0eeaab37607a"
      },
      "outputs": [
        {
          "name": "stdout",
          "output_type": "stream",
          "text": [
            "Model: \"sequential_2\"\n",
            "_________________________________________________________________\n",
            " Layer (type)                Output Shape              Param #   \n",
            "=================================================================\n",
            " conv2d_9 (Conv2D)           (None, 100, 100, 32)      896       \n",
            "                                                                 \n",
            " max_pooling2d_9 (MaxPooling  (None, 50, 50, 32)       0         \n",
            " 2D)                                                             \n",
            "                                                                 \n",
            " conv2d_10 (Conv2D)          (None, 50, 50, 64)        18496     \n",
            "                                                                 \n",
            " max_pooling2d_10 (MaxPoolin  (None, 25, 25, 64)       0         \n",
            " g2D)                                                            \n",
            "                                                                 \n",
            " dropout_9 (Dropout)         (None, 25, 25, 64)        0         \n",
            "                                                                 \n",
            " conv2d_11 (Conv2D)          (None, 25, 25, 128)       73856     \n",
            "                                                                 \n",
            " max_pooling2d_11 (MaxPoolin  (None, 12, 12, 128)      0         \n",
            " g2D)                                                            \n",
            "                                                                 \n",
            " dropout_10 (Dropout)        (None, 12, 12, 128)       0         \n",
            "                                                                 \n",
            " conv2d_12 (Conv2D)          (None, 12, 12, 256)       295168    \n",
            "                                                                 \n",
            " max_pooling2d_12 (MaxPoolin  (None, 6, 6, 256)        0         \n",
            " g2D)                                                            \n",
            "                                                                 \n",
            " dropout_11 (Dropout)        (None, 6, 6, 256)         0         \n",
            "                                                                 \n",
            " flatten_2 (Flatten)         (None, 9216)              0         \n",
            "                                                                 \n",
            " dense_4 (Dense)             (None, 48)                442416    \n",
            "                                                                 \n",
            " dropout_12 (Dropout)        (None, 48)                0         \n",
            "                                                                 \n",
            " dense_5 (Dense)             (None, 10)                490       \n",
            "                                                                 \n",
            "=================================================================\n",
            "Total params: 831,322\n",
            "Trainable params: 831,322\n",
            "Non-trainable params: 0\n",
            "_________________________________________________________________\n",
            "None\n"
          ]
        }
      ],
      "source": [
        "model_1 = create_cnn(conv_layers=4, dense_units=48, dropout=0.25)\n",
        "print(model_1.summary())"
      ]
    },
    {
      "cell_type": "code",
      "execution_count": 62,
      "metadata": {
        "id": "dBmr42XssMR6"
      },
      "outputs": [],
      "source": [
        "EPOCHS = 50"
      ]
    },
    {
      "cell_type": "code",
      "execution_count": 45,
      "metadata": {
        "id": "ddAVm5N8twoI"
      },
      "outputs": [],
      "source": [
        "from tensorflow import keras"
      ]
    },
    {
      "cell_type": "code",
      "execution_count": 66,
      "metadata": {
        "id": "bJwrwgbnrCzr"
      },
      "outputs": [],
      "source": [
        "callbacks = [keras.callbacks.ModelCheckpoint(\"save_at_{epoch}.h5\")]\n",
        "model_1.compile(optimizer=\"adam\", loss=\"categorical_crossentropy\", metrics=[\"accuracy\"])"
      ]
    },
    {
      "cell_type": "code",
      "execution_count": 67,
      "metadata": {
        "colab": {
          "base_uri": "https://localhost:8080/"
        },
        "id": "Iy87sxZ4sQK9",
        "outputId": "1290f4b8-f315-4b46-afdf-d37f484ba628"
      },
      "outputs": [
        {
          "name": "stdout",
          "output_type": "stream",
          "text": [
            "Epoch 1/50\n",
            "655/655 [==============================] - 130s 195ms/step - loss: 2.0715 - accuracy: 0.2599 - val_loss: 1.7982 - val_accuracy: 0.3633\n",
            "Epoch 2/50\n",
            "655/655 [==============================] - 129s 198ms/step - loss: 1.7642 - accuracy: 0.3821 - val_loss: 1.4730 - val_accuracy: 0.4795\n",
            "Epoch 3/50\n",
            "655/655 [==============================] - 126s 193ms/step - loss: 1.5746 - accuracy: 0.4566 - val_loss: 1.4457 - val_accuracy: 0.4922\n",
            "Epoch 4/50\n",
            "655/655 [==============================] - 126s 192ms/step - loss: 1.4597 - accuracy: 0.4981 - val_loss: 1.3177 - val_accuracy: 0.5573\n",
            "Epoch 5/50\n",
            "655/655 [==============================] - 127s 195ms/step - loss: 1.3679 - accuracy: 0.5286 - val_loss: 1.1967 - val_accuracy: 0.5894\n",
            "Epoch 6/50\n",
            "655/655 [==============================] - 128s 196ms/step - loss: 1.3116 - accuracy: 0.5528 - val_loss: 1.1346 - val_accuracy: 0.6044\n",
            "Epoch 7/50\n",
            "655/655 [==============================] - 128s 195ms/step - loss: 1.2395 - accuracy: 0.5753 - val_loss: 1.1470 - val_accuracy: 0.5944\n",
            "Epoch 8/50\n",
            "655/655 [==============================] - 131s 200ms/step - loss: 1.1863 - accuracy: 0.5940 - val_loss: 1.0283 - val_accuracy: 0.6487\n",
            "Epoch 9/50\n",
            "655/655 [==============================] - 130s 198ms/step - loss: 1.1483 - accuracy: 0.6088 - val_loss: 0.9909 - val_accuracy: 0.6565\n",
            "Epoch 10/50\n",
            "655/655 [==============================] - 128s 195ms/step - loss: 1.1209 - accuracy: 0.6249 - val_loss: 0.9356 - val_accuracy: 0.6821\n",
            "Epoch 11/50\n",
            "655/655 [==============================] - 128s 195ms/step - loss: 1.0711 - accuracy: 0.6341 - val_loss: 0.9169 - val_accuracy: 0.6888\n",
            "Epoch 12/50\n",
            "655/655 [==============================] - 127s 194ms/step - loss: 1.0476 - accuracy: 0.6385 - val_loss: 0.9199 - val_accuracy: 0.6906\n",
            "Epoch 13/50\n",
            "655/655 [==============================] - 132s 201ms/step - loss: 1.0218 - accuracy: 0.6515 - val_loss: 0.8787 - val_accuracy: 0.7055\n",
            "Epoch 14/50\n",
            "655/655 [==============================] - 129s 197ms/step - loss: 1.0056 - accuracy: 0.6599 - val_loss: 0.8942 - val_accuracy: 0.6969\n",
            "Epoch 15/50\n",
            "655/655 [==============================] - 130s 198ms/step - loss: 0.9941 - accuracy: 0.6622 - val_loss: 0.8373 - val_accuracy: 0.7104\n",
            "Epoch 16/50\n",
            "655/655 [==============================] - 129s 197ms/step - loss: 0.9460 - accuracy: 0.6795 - val_loss: 0.8515 - val_accuracy: 0.7162\n",
            "Epoch 17/50\n",
            "655/655 [==============================] - 128s 196ms/step - loss: 0.9462 - accuracy: 0.6809 - val_loss: 0.8124 - val_accuracy: 0.7317\n",
            "Epoch 18/50\n",
            "655/655 [==============================] - 130s 198ms/step - loss: 0.9228 - accuracy: 0.6859 - val_loss: 0.7751 - val_accuracy: 0.7431\n",
            "Epoch 19/50\n",
            "655/655 [==============================] - 149s 227ms/step - loss: 0.9107 - accuracy: 0.6956 - val_loss: 0.8499 - val_accuracy: 0.7114\n",
            "Epoch 20/50\n",
            "655/655 [==============================] - 127s 194ms/step - loss: 0.8996 - accuracy: 0.6980 - val_loss: 0.8145 - val_accuracy: 0.7328\n",
            "Epoch 21/50\n",
            "655/655 [==============================] - 127s 194ms/step - loss: 0.8798 - accuracy: 0.7029 - val_loss: 0.7559 - val_accuracy: 0.7489\n",
            "Epoch 22/50\n",
            "655/655 [==============================] - 127s 195ms/step - loss: 0.8720 - accuracy: 0.7041 - val_loss: 0.7773 - val_accuracy: 0.7414\n",
            "Epoch 23/50\n",
            "655/655 [==============================] - 127s 194ms/step - loss: 0.8563 - accuracy: 0.7105 - val_loss: 0.7535 - val_accuracy: 0.7532\n",
            "Epoch 24/50\n",
            "655/655 [==============================] - 127s 195ms/step - loss: 0.8439 - accuracy: 0.7152 - val_loss: 0.7862 - val_accuracy: 0.7362\n",
            "Epoch 25/50\n",
            "655/655 [==============================] - 126s 193ms/step - loss: 0.8339 - accuracy: 0.7209 - val_loss: 0.7785 - val_accuracy: 0.7441\n",
            "Epoch 26/50\n",
            "655/655 [==============================] - 127s 194ms/step - loss: 0.8122 - accuracy: 0.7240 - val_loss: 0.7281 - val_accuracy: 0.7596\n",
            "Epoch 27/50\n",
            "655/655 [==============================] - 127s 193ms/step - loss: 0.8185 - accuracy: 0.7263 - val_loss: 0.7094 - val_accuracy: 0.7674\n",
            "Epoch 28/50\n",
            "655/655 [==============================] - 128s 196ms/step - loss: 0.7985 - accuracy: 0.7303 - val_loss: 0.7813 - val_accuracy: 0.7429\n",
            "Epoch 29/50\n",
            "655/655 [==============================] - 128s 195ms/step - loss: 0.8006 - accuracy: 0.7317 - val_loss: 0.6792 - val_accuracy: 0.7691\n",
            "Epoch 30/50\n",
            "655/655 [==============================] - 128s 195ms/step - loss: 0.7823 - accuracy: 0.7396 - val_loss: 0.7197 - val_accuracy: 0.7615\n",
            "Epoch 31/50\n",
            "655/655 [==============================] - 127s 194ms/step - loss: 0.7688 - accuracy: 0.7402 - val_loss: 0.7334 - val_accuracy: 0.7546\n",
            "Epoch 32/50\n",
            "655/655 [==============================] - 126s 193ms/step - loss: 0.7638 - accuracy: 0.7417 - val_loss: 0.6848 - val_accuracy: 0.7741\n",
            "Epoch 33/50\n",
            "655/655 [==============================] - 126s 193ms/step - loss: 0.7627 - accuracy: 0.7468 - val_loss: 0.6907 - val_accuracy: 0.7729\n",
            "Epoch 34/50\n",
            "655/655 [==============================] - 127s 194ms/step - loss: 0.7635 - accuracy: 0.7451 - val_loss: 0.7079 - val_accuracy: 0.7676\n",
            "Epoch 35/50\n",
            "655/655 [==============================] - 127s 194ms/step - loss: 0.7490 - accuracy: 0.7515 - val_loss: 0.6902 - val_accuracy: 0.7703\n",
            "Epoch 36/50\n",
            "655/655 [==============================] - 126s 192ms/step - loss: 0.7372 - accuracy: 0.7559 - val_loss: 0.6726 - val_accuracy: 0.7779\n",
            "Epoch 37/50\n",
            "655/655 [==============================] - 127s 194ms/step - loss: 0.7279 - accuracy: 0.7541 - val_loss: 0.6847 - val_accuracy: 0.7727\n",
            "Epoch 38/50\n",
            "655/655 [==============================] - 127s 194ms/step - loss: 0.7399 - accuracy: 0.7525 - val_loss: 0.7233 - val_accuracy: 0.7605\n",
            "Epoch 39/50\n",
            "655/655 [==============================] - 127s 195ms/step - loss: 0.7155 - accuracy: 0.7601 - val_loss: 0.6660 - val_accuracy: 0.7823\n",
            "Epoch 40/50\n",
            "655/655 [==============================] - 127s 194ms/step - loss: 0.7137 - accuracy: 0.7584 - val_loss: 0.6496 - val_accuracy: 0.7886\n",
            "Epoch 41/50\n",
            "655/655 [==============================] - 127s 194ms/step - loss: 0.7059 - accuracy: 0.7644 - val_loss: 0.6424 - val_accuracy: 0.7919\n",
            "Epoch 42/50\n",
            "655/655 [==============================] - 126s 192ms/step - loss: 0.6947 - accuracy: 0.7629 - val_loss: 0.6522 - val_accuracy: 0.7892\n",
            "Epoch 43/50\n",
            "655/655 [==============================] - 127s 193ms/step - loss: 0.7015 - accuracy: 0.7674 - val_loss: 0.6335 - val_accuracy: 0.7924\n",
            "Epoch 44/50\n",
            "655/655 [==============================] - 127s 194ms/step - loss: 0.6883 - accuracy: 0.7690 - val_loss: 0.6735 - val_accuracy: 0.7775\n",
            "Epoch 45/50\n",
            "655/655 [==============================] - 148s 227ms/step - loss: 0.6890 - accuracy: 0.7696 - val_loss: 0.6246 - val_accuracy: 0.7938\n",
            "Epoch 46/50\n",
            "655/655 [==============================] - 127s 194ms/step - loss: 0.6814 - accuracy: 0.7709 - val_loss: 0.6397 - val_accuracy: 0.7892\n",
            "Epoch 47/50\n",
            "655/655 [==============================] - 148s 226ms/step - loss: 0.6790 - accuracy: 0.7732 - val_loss: 0.6485 - val_accuracy: 0.7901\n",
            "Epoch 48/50\n",
            "655/655 [==============================] - 127s 193ms/step - loss: 0.6747 - accuracy: 0.7735 - val_loss: 0.6267 - val_accuracy: 0.7961\n",
            "Epoch 49/50\n",
            "655/655 [==============================] - 131s 200ms/step - loss: 0.6787 - accuracy: 0.7742 - val_loss: 0.7969 - val_accuracy: 0.7360\n",
            "Epoch 50/50\n",
            "655/655 [==============================] - 127s 193ms/step - loss: 0.6604 - accuracy: 0.7835 - val_loss: 0.6461 - val_accuracy: 0.7917\n"
          ]
        }
      ],
      "source": [
        "history = model_1.fit(dataset_train, epochs=EPOCHS, callbacks=callbacks, validation_data=dataset_val)"
      ]
    },
    {
      "attachments": {},
      "cell_type": "markdown",
      "metadata": {
        "id": "3KtRjDDPq1a2"
      },
      "source": [
        "**Save Model Weights & Training History**"
      ]
    },
    {
      "cell_type": "code",
      "execution_count": 72,
      "metadata": {
        "id": "WL0CEZ0h31Bb"
      },
      "outputs": [],
      "source": [
        "!mkdir -p saved_model"
      ]
    },
    {
      "cell_type": "code",
      "execution_count": 75,
      "metadata": {
        "colab": {
          "base_uri": "https://localhost:8080/"
        },
        "id": "RrBTKMY13HvX",
        "outputId": "d43047c7-ed7a-4e52-848b-2a591b0fedd3"
      },
      "outputs": [
        {
          "name": "stderr",
          "output_type": "stream",
          "text": [
            "WARNING:absl:Found untraced functions such as _jit_compiled_convolution_op, _jit_compiled_convolution_op, _jit_compiled_convolution_op, _jit_compiled_convolution_op while saving (showing 4 of 4). These functions will not be directly callable after loading.\n"
          ]
        }
      ],
      "source": [
        "model_1.save(\"saved_model/trained_model\")"
      ]
    },
    {
      "cell_type": "code",
      "execution_count": 70,
      "metadata": {
        "id": "GOqTsFwzh8bo"
      },
      "outputs": [],
      "source": [
        "import numpy as np\n",
        "np.save(\"trainingHist.npy\",history)"
      ]
    },
    {
      "attachments": {},
      "cell_type": "markdown",
      "metadata": {
        "id": "c_KNWy8fqYmx"
      },
      "source": [
        "**Plot Training and Validation Results**"
      ]
    },
    {
      "cell_type": "code",
      "execution_count": 71,
      "metadata": {
        "colab": {
          "base_uri": "https://localhost:8080/",
          "height": 410
        },
        "id": "tFXu37Kkliob",
        "outputId": "fe71f4c5-dbb8-4e1e-c444-f39e5e1208f9"
      },
      "outputs": [
        {
          "data": {
            "image/png": "[encoded data removed]",
            "text/plain": [
              "<Figure size 1000x400 with 2 Axes>"
            ]
          },
          "metadata": {},
          "output_type": "display_data"
        }
      ],
      "source": [
        "plt.figure(figsize=(10,4))\n",
        "\n",
        "plt.subplot(1,2,1)\n",
        "plt.ylim(0,1)\n",
        "plt.grid(True, \"both\", linestyle=\"--\")\n",
        "plt.plot(history.history['accuracy'])\n",
        "plt.plot(history.history['val_accuracy'])\n",
        "plt.title('Model Accuracy')\n",
        "plt.ylabel('Accuracy')\n",
        "plt.xlabel('Epoch')\n",
        "plt.legend(['Train', 'Validation'], loc='lower right')\n",
        "plt.text(len(history.history['val_accuracy'])-3, history.history['val_accuracy'][-1]+0.02, round(history.history['val_accuracy'][-1],2))\n",
        "\n",
        "plt.subplot(1,2,2)\n",
        "plt.grid(True, \"both\", linestyle=\"--\")\n",
        "plt.plot(history.history['loss'])\n",
        "plt.plot(history.history['val_loss'])\n",
        "plt.title('Model Loss')\n",
        "plt.ylabel('Loss')\n",
        "plt.xlabel('Epoch')\n",
        "plt.legend(['Train', 'Validation'], loc='upper right')\n",
        "\n",
        "plt.show()"
      ]
    },
    {
      "attachments": {},
      "cell_type": "markdown",
      "metadata": {
        "id": "mLsZo3MN3bgS"
      },
      "source": [
        "**Load Model & Make Predictions**"
      ]
    },
    {
      "cell_type": "code",
      "execution_count": 129,
      "metadata": {
        "id": "tW8Eea-X_TH3"
      },
      "outputs": [],
      "source": [
        "animal_classes = dataset_train.class_indices"
      ]
    },
    {
      "cell_type": "code",
      "execution_count": 76,
      "metadata": {
        "id": "eiGPyTTR3dW5"
      },
      "outputs": [],
      "source": [
        "classifier_1 = tf.keras.models.load_model(\"saved_model/trained_model\")"
      ]
    },
    {
      "cell_type": "code",
      "execution_count": 77,
      "metadata": {
        "colab": {
          "base_uri": "https://localhost:8080/"
        },
        "id": "JiAnwLj_4YjS",
        "outputId": "838d1037-88ae-4d03-dbe1-f3209e1e735c"
      },
      "outputs": [
        {
          "name": "stdout",
          "output_type": "stream",
          "text": [
            "Model: \"sequential_2\"\n",
            "_________________________________________________________________\n",
            " Layer (type)                Output Shape              Param #   \n",
            "=================================================================\n",
            " conv2d_9 (Conv2D)           (None, 100, 100, 32)      896       \n",
            "                                                                 \n",
            " max_pooling2d_9 (MaxPooling  (None, 50, 50, 32)       0         \n",
            " 2D)                                                             \n",
            "                                                                 \n",
            " conv2d_10 (Conv2D)          (None, 50, 50, 64)        18496     \n",
            "                                                                 \n",
            " max_pooling2d_10 (MaxPoolin  (None, 25, 25, 64)       0         \n",
            " g2D)                                                            \n",
            "                                                                 \n",
            " dropout_9 (Dropout)         (None, 25, 25, 64)        0         \n",
            "                                                                 \n",
            " conv2d_11 (Conv2D)          (None, 25, 25, 128)       73856     \n",
            "                                                                 \n",
            " max_pooling2d_11 (MaxPoolin  (None, 12, 12, 128)      0         \n",
            " g2D)                                                            \n",
            "                                                                 \n",
            " dropout_10 (Dropout)        (None, 12, 12, 128)       0         \n",
            "                                                                 \n",
            " conv2d_12 (Conv2D)          (None, 12, 12, 256)       295168    \n",
            "                                                                 \n",
            " max_pooling2d_12 (MaxPoolin  (None, 6, 6, 256)        0         \n",
            " g2D)                                                            \n",
            "                                                                 \n",
            " dropout_11 (Dropout)        (None, 6, 6, 256)         0         \n",
            "                                                                 \n",
            " flatten_2 (Flatten)         (None, 9216)              0         \n",
            "                                                                 \n",
            " dense_4 (Dense)             (None, 48)                442416    \n",
            "                                                                 \n",
            " dropout_12 (Dropout)        (None, 48)                0         \n",
            "                                                                 \n",
            " dense_5 (Dense)             (None, 10)                490       \n",
            "                                                                 \n",
            "=================================================================\n",
            "Total params: 831,322\n",
            "Trainable params: 831,322\n",
            "Non-trainable params: 0\n",
            "_________________________________________________________________\n"
          ]
        }
      ],
      "source": [
        "classifier_1.summary()"
      ]
    },
    {
      "cell_type": "code",
      "execution_count": 78,
      "metadata": {
        "id": "c5rKf0hy546X"
      },
      "outputs": [],
      "source": [
        "from io import BytesIO\n",
        "from urllib import request\n",
        "from tensorflow.keras.preprocessing import image\n",
        "import matplotlib.pyplot as plt \n",
        "import numpy as np"
      ]
    },
    {
      "cell_type": "code",
      "execution_count": 81,
      "metadata": {
        "id": "hhUPddt-57Hw"
      },
      "outputs": [],
      "source": [
        "def load_image_from_url(URL):\n",
        "    with request.urlopen(URL) as url:\n",
        "        img = image.load_img(BytesIO(url.read()), target_size=IMG_SIZE)\n",
        "    return img"
      ]
    },
    {
      "cell_type": "code",
      "execution_count": 140,
      "metadata": {
        "id": "rByM30usAUng"
      },
      "outputs": [],
      "source": [
        "animal_classes = {v: k for k, v in animal_classes.items()}"
      ]
    },
    {
      "cell_type": "code",
      "execution_count": 148,
      "metadata": {
        "colab": {
          "base_uri": "https://localhost:8080/"
        },
        "id": "bV3To13aCYIG",
        "outputId": "1b3822fc-ff69-4add-e637-ad63e7dba1eb"
      },
      "outputs": [
        {
          "data": {
            "text/plain": [
              "{0: 'cane',\n",
              " 1: 'cavallo',\n",
              " 2: 'elefante',\n",
              " 3: 'farfalla',\n",
              " 4: 'gallina',\n",
              " 5: 'gatto',\n",
              " 6: 'mucca',\n",
              " 7: 'pecora',\n",
              " 8: 'ragno',\n",
              " 9: 'scoiattolo'}"
            ]
          },
          "execution_count": 148,
          "metadata": {},
          "output_type": "execute_result"
        }
      ],
      "source": [
        "animal_classes"
      ]
    },
    {
      "cell_type": "code",
      "execution_count": 141,
      "metadata": {
        "id": "nRaKYcUr6BRD"
      },
      "outputs": [],
      "source": [
        "def predict_animal(model,animal_classes, img):\n",
        "  img_array = image.img_to_array(img)/255.0\n",
        "  img_batch = np.expand_dims(img_array, axis=0)\n",
        "  prediction = model.predict(img_batch)\n",
        "  return prediction, animal_classes[int(prediction.argmax(axis=-1))]"
      ]
    },
    {
      "cell_type": "code",
      "execution_count": 146,
      "metadata": {
        "colab": {
          "base_uri": "https://localhost:8080/"
        },
        "id": "fJ1Tcmpy7j7f",
        "outputId": "5b43d93b-7b26-404a-e7ae-14ae07f9ffec"
      },
      "outputs": [
        {
          "name": "stdout",
          "output_type": "stream",
          "text": [
            "Image URL: https://metronews.it/wp-content/uploads/2023/03/animali-ragno-botola-1568x1307.jpg\n",
            "1/1 [==============================] - 0s 31ms/step\n"
          ]
        }
      ],
      "source": [
        "probs, animal_pred = predict_animal(classifier_1, animal_classes, load_image_from_url(input(\"Image URL: \")))"
      ]
    },
    {
      "cell_type": "code",
      "execution_count": 147,
      "metadata": {
        "colab": {
          "base_uri": "https://localhost:8080/",
          "height": 36
        },
        "id": "10A3NMXW767w",
        "outputId": "d9e217f4-6e44-4101-95a4-452191ab0fcc"
      },
      "outputs": [
        {
          "data": {
            "application/vnd.google.colaboratory.intrinsic+json": {
              "type": "string"
            },
            "text/plain": [
              "'ragno'"
            ]
          },
          "execution_count": 147,
          "metadata": {},
          "output_type": "execute_result"
        }
      ],
      "source": [
        "animal_pred"
      ]
    },
    {
      "attachments": {},
      "cell_type": "markdown",
      "metadata": {
        "id": "AWswZipyCbKH"
      },
      "source": [
        "**Save Model**"
      ]
    },
    {
      "cell_type": "code",
      "execution_count": 149,
      "metadata": {
        "colab": {
          "base_uri": "https://localhost:8080/"
        },
        "id": "YEOEVcolCcVv",
        "outputId": "bec75b06-8cfa-420c-e5fc-874a8260a479"
      },
      "outputs": [
        {
          "name": "stdout",
          "output_type": "stream",
          "text": [
            "  adding: content/saved_model/ (stored 0%)\n",
            "  adding: content/saved_model/trained_model/ (stored 0%)\n",
            "  adding: content/saved_model/trained_model/assets/ (stored 0%)\n",
            "  adding: content/saved_model/trained_model/saved_model.pb (deflated 89%)\n",
            "  adding: content/saved_model/trained_model/keras_metadata.pb (deflated 93%)\n",
            "  adding: content/saved_model/trained_model/variables/ (stored 0%)\n",
            "  adding: content/saved_model/trained_model/variables/variables.data-00000-of-00001 (deflated 13%)\n",
            "  adding: content/saved_model/trained_model/variables/variables.index (deflated 64%)\n",
            "  adding: content/saved_model/trained_model/fingerprint.pb (stored 0%)\n"
          ]
        }
      ],
      "source": [
        "!zip -r /content/saved_model.zip /content/saved_model"
      ]
    },
    {
      "cell_type": "code",
      "execution_count": 150,
      "metadata": {
        "colab": {
          "base_uri": "https://localhost:8080/"
        },
        "id": "FWkEvhdMCwDK",
        "outputId": "1e5c4a79-4aac-47ff-88a1-c450e90446f7"
      },
      "outputs": [
        {
          "name": "stdout",
          "output_type": "stream",
          "text": [
            "Mounted at /content/drive\n"
          ]
        }
      ],
      "source": [
        "from google.colab import drive\n",
        "drive.mount('/content/drive')"
      ]
    },
    {
      "cell_type": "code",
      "execution_count": 152,
      "metadata": {
        "id": "HI_xdI7IC1gB"
      },
      "outputs": [],
      "source": [
        "!cp \"/content/saved_model.zip\" \"/content/drive/MyDrive\""
      ]
    }
  ],
  "metadata": {
    "accelerator": "GPU",
    "colab": {
      "provenance": []
    },
    "gpuClass": "standard",
    "kernelspec": {
      "display_name": "Python 3",
      "name": "python3"
    },
    "language_info": {
      "name": "python"
    }
  },
  "nbformat": 4,
  "nbformat_minor": 0
}
